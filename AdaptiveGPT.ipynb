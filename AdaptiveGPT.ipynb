{
  "cells": [
    {
      "cell_type": "markdown",
      "metadata": {
        "id": "GOzid6tVQ2jR"
      },
      "source": [
        "## Importando Dependências"
      ]
    },
    {
      "cell_type": "code",
      "execution_count": null,
      "metadata": {
        "id": "-bSICASsgQeZ"
      },
      "outputs": [],
      "source": [
        "try:\n",
        "    # Importando a biblioteca do OpenAI\n",
        "    import openai\n",
        "    import re\n",
        "    import json\n",
        "\n",
        "except ModuleNotFoundError:\n",
        "    # Baixando a biblioteca do OpenAI caso ela não tenha sido baixada ainda\n",
        "    !pip install -q openai\n",
        "    import openai\n",
        "    import re\n",
        "    import json"
      ]
    },
    {
      "cell_type": "markdown",
      "metadata": {
        "id": "xkgLDZORQ42d"
      },
      "source": [
        "## Informando a chave da API do OpenAI"
      ]
    },
    {
      "cell_type": "code",
      "execution_count": null,
      "metadata": {
        "id": "SnvufeK-u7Xj"
      },
      "outputs": [],
      "source": [
        "openai.api_key = \"COLE-SUA-KEY-AQUI\"\n",
        "MODELO = \"gpt-3.5-turbo\" # Opções: \"text-davinci-003\", \"gpt-3.5-turbo\""
      ]
    },
    {
      "cell_type": "markdown",
      "metadata": {
        "id": "9zkCyPrGQ8Hc"
      },
      "source": [
        "## Definindo Informações Básicas para o Algoritmo"
      ]
    },
    {
      "cell_type": "code",
      "execution_count": null,
      "metadata": {
        "id": "UCKhO2qevEfS"
      },
      "outputs": [],
      "source": [
        "# Define os níveis de dificuldade até chegar ao fim da avaliação\n",
        "niveis_dificuldade = [\"1 - Fácil\", \"2 - Médio\", \"3 - Difícil\", 'Fim']\n",
        "\n",
        "\n",
        "# Instrui o algoritmo a sempre iniciar com uma questão de nível fácil\n",
        "dificuldade = '1 - Fácil'\n",
        "\n",
        "\n",
        "# Armazena a trajetória de erros e acertos do estudante\n",
        "trajetoria = []"
      ]
    },
    {
      "cell_type": "markdown",
      "metadata": {
        "id": "ZthE2YadRB7M"
      },
      "source": [
        "## Recebendo Informações sobre o Assunto"
      ]
    },
    {
      "cell_type": "code",
      "execution_count": null,
      "metadata": {
        "id": "2JD8jpTPvQrE"
      },
      "outputs": [],
      "source": [
        "contexto = input(\"Digite o texto tema da aula: \")\n",
        "\n",
        "\n",
        "prompt_base = f'''\n",
        "Quero que você atue como um assistente educacional para professores.\n",
        "\n",
        "Seu objetivo é ler um texto base para uma aula informado pelo professor e criar\n",
        "questões discursivas para os alunos de acordo com os seguintes níveis de dificuldade:\n",
        "1 - Fácil\n",
        "2 - Médio\n",
        "3 - Difícil\n",
        "\n",
        "Quando solicitado, você também deve informar o nível de corretude das respostas\n",
        "informadas de acordo com os números correspondentes às seguintes opções:\n",
        "1 - Resposta Errada\n",
        "2 - Resposta Parcialmente Correta\n",
        "3 - Resposta Correta\n",
        "\n",
        "O texto base da aula é o seguinte:\n",
        "\n",
        "\"\n",
        "{contexto}\n",
        "\"\n",
        "'''"
      ]
    },
    {
      "cell_type": "markdown",
      "metadata": {
        "id": "rOz-lRZIRKjJ"
      },
      "source": [
        "## Fazendo Perguntas Adaptativas para o Aluno"
      ]
    },
    {
      "cell_type": "code",
      "execution_count": null,
      "metadata": {
        "id": "WX7uvQApRMfs"
      },
      "outputs": [],
      "source": [
        "while dificuldade != \"Fim\":\n",
        "    # Monta o texto da pergunta para o ChatGPT\n",
        "    pergunta_chatgpt = f'''\n",
        "    {prompt_base}\n",
        "\n",
        "    De acordo com o contexto acima, gere uma pergunta com nível de dificuldade {dificuldade}.\n",
        "\n",
        "    Sua resposta deve conter somente o enunciado da pergunta. O nível de dificuldade ou outras informações devem ser omitidas.\n",
        "    '''\n",
        "    # Solicita que o ChatGPT gere uma pergunta de acordo com o texto base e o nível de dificuldade selecionados\n",
        "    prompt_chatgpt = openai.ChatCompletion.create(\n",
        "        model=MODELO,\n",
        "        messages=[\n",
        "            {\"role\": \"user\", \"content\": pergunta_chatgpt},\n",
        "        ])\n",
        "    pergunta_gerada = \"{}\".format(prompt_chatgpt.choices[0][\"message\"][\"content\"])\n",
        "\n",
        "\n",
        "    # Exibe a pergunta gerada e coleta a resposta\n",
        "    print(\"\\n=============================================================\")\n",
        "    print(\"=============================================================\")\n",
        "    print(\"=============================================================\")\n",
        "    print(pergunta_gerada)\n",
        "    resposta = input(\"Digite a resposta da pergunta acima: \")\n",
        "\n",
        "\n",
        "\n",
        "    pergunta_chatgpt = f'''\n",
        "    {prompt_base}\n",
        "\n",
        "    O professor apresentou ao aluno a seguinte pergunta:\n",
        "    \"{pergunta_gerada}\"\n",
        "\n",
        "    O aluno informou a seguinte resposta:\n",
        "    \"{resposta}\"\n",
        "\n",
        "    Informe o nível de corretude da resposta do aluno.\n",
        "\n",
        "    Sua resposta deve necessariamente informar somente o\n",
        "    número da opção de corretude dentre as opções informadas acima.\n",
        "    '''\n",
        "    # Realiza a pergunta sobre a corretude da resposta do aluno ao ChatGPT\n",
        "    prompt_chatgpt = openai.ChatCompletion.create(\n",
        "        model=MODELO,\n",
        "        messages=[\n",
        "            {\"role\": \"user\", \"content\": pergunta_chatgpt},\n",
        "        ])\n",
        "\n",
        "\n",
        "    # Faz o parsing da corretude da resposta do aluno\n",
        "    corretude_resposta = \"{}\".format(prompt_chatgpt.choices[0][\"message\"][\"content\"])\n",
        "    numero_corretude_resposta = int(re.findall('[0-9]+', corretude_resposta)[0])\n",
        "\n",
        "\n",
        "    # Aumenta o nível de dificuldade do aluno caso ele tenha acertado a questão\n",
        "    if numero_corretude_resposta == 3:\n",
        "        nova_dificuldade = niveis_dificuldade[niveis_dificuldade.index(dificuldade) + 1]\n",
        "    else:\n",
        "        nova_dificuldade = dificuldade\n",
        "\n",
        "\n",
        "    # Solicita que o ChatGPT analise o humor da resposta do aluno\n",
        "    pergunta_humor_chatgpt = f'''\n",
        "    {prompt_base}\n",
        "\n",
        "    O professor apresentou ao aluno a seguinte pergunta:\n",
        "    \"{pergunta_gerada}\"\n",
        "\n",
        "    O aluno informou a seguinte resposta:\n",
        "    \"{resposta}\"\n",
        "\n",
        "    Analise a resposta fornecida pelo aluno e informe o humor da\n",
        "    resposta de acordo com os números correspondentes às seguintes opções:\n",
        "    1. Humor Negativo\n",
        "    2. Humor Neutro\n",
        "    3. Humor Positivo\n",
        "    '''\n",
        "    prompt_humor_chatgpt = openai.ChatCompletion.create(\n",
        "        model=MODELO,\n",
        "        messages=[\n",
        "            {\"role\": \"user\", \"content\": pergunta_humor_chatgpt},\n",
        "        ])\n",
        "    # Faz o parsing do humor da resposta do aluno\n",
        "    humor_resposta = \"{}\".format(prompt_humor_chatgpt.choices[0][\"message\"][\"content\"])\n",
        "\n",
        "    # Solicita que o ChatGPT analise o sentimento da resposta do aluno\n",
        "    pergunta_humor_chatgpt = f'''\n",
        "    {prompt_base}\n",
        "\n",
        "    O professor apresentou ao aluno a seguinte pergunta:\n",
        "    \"{pergunta_gerada}\"\n",
        "\n",
        "    O aluno informou a seguinte resposta:\n",
        "    \"{resposta}\"\n",
        "\n",
        "    Analise a resposta fornecida pelo aluno e informe sentimento expressado pela resposta.\n",
        "    Sua resposta em relação ao sentimento do aluno na resposta deve ser representado em uma única\n",
        "    palavra (por exemplo: \"Confiança\", \"Insegurança\", \"Empenho\", \"Preguiça\", \"Felicidade\", \"Alegria\",\n",
        "    \"Entusiasmo\", \"Gratidão\", \"Esperança\", \"Satisfação\", \"Amor\", \"Tristeza\", \"Raiva\", \"Frustração\",\n",
        "    \"Medo\", \"Decepção\", \"Culpa\", \"Ansiedade\", etc.).\n",
        "    '''\n",
        "    prompt_sentimento_chatgpt = openai.ChatCompletion.create(\n",
        "        model=MODELO,\n",
        "        messages=[\n",
        "            {\"role\": \"user\", \"content\": pergunta_humor_chatgpt},\n",
        "        ])\n",
        "    # Faz o parsing do humor da resposta do aluno\n",
        "    sentimento_resposta = \"{}\".format(prompt_sentimento_chatgpt.choices[0][\"message\"][\"content\"])\n",
        "\n",
        "\n",
        "    # Armazena o progresso do aluno\n",
        "    trajetoria.append(\n",
        "        {\n",
        "             \"dificuldade\": dificuldade,\n",
        "             \"corretude\": corretude_resposta,\n",
        "             \"humor\": humor_resposta,\n",
        "             \"sentimento\": sentimento_resposta,\n",
        "        }\n",
        "    )\n",
        "\n",
        "    # Atualiza a dificuldade do aluno\n",
        "    dificuldade = nova_dificuldade\n"
      ]
    },
    {
      "cell_type": "code",
      "source": [
        "print(\"=============================\")\n",
        "print(\"==== TRAJETÓRIA DO ALUNO ====\")\n",
        "print(\"=============================\")\n",
        "\n",
        "print(f\"Número de Perguntas: {len(trajetoria)}\\n\")\n",
        "\n",
        "for numero_pergunta, resposta in enumerate(trajetoria, 1):\n",
        "    dificuldade = resposta[\"dificuldade\"]\n",
        "    corretude = resposta[\"corretude\"]\n",
        "    humor = resposta[\"humor\"]\n",
        "    sentimento = resposta[\"sentimento\"]\n",
        "\n",
        "    print(f\"=== Pergunta {numero_pergunta}\")\n",
        "    print(f\"\\tDificuldade: {dificuldade}\")\n",
        "    print(f\"\\tCorretude: {corretude}\")\n",
        "    print(f\"\\tHumor: {humor}\")\n",
        "    print(f\"\\tSentimento: {sentimento}\")\n",
        "    \n",
        "    print(\"\\n\")"
      ],
      "metadata": {
        "id": "nB9Oz9Kcvg3d"
      },
      "execution_count": null,
      "outputs": []
    },
    {
      "cell_type": "code",
      "source": [],
      "metadata": {
        "id": "ljydBcIz-oq1"
      },
      "execution_count": null,
      "outputs": []
    }
  ],
  "metadata": {
    "colab": {
      "provenance": []
    },
    "kernelspec": {
      "display_name": "Python 3",
      "name": "python3"
    },
    "language_info": {
      "name": "python"
    }
  },
  "nbformat": 4,
  "nbformat_minor": 0
}