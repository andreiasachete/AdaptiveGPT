{
  "cells": [
    {
      "cell_type": "markdown",
      "metadata": {
        "id": "GOzid6tVQ2jR"
      },
      "source": [
        "## Importando Dependências"
      ]
    },
    {
      "cell_type": "code",
      "execution_count": null,
      "metadata": {
        "id": "-bSICASsgQeZ"
      },
      "outputs": [],
      "source": [
        "try:\n",
        "    # Importing the OpenAI library\n",
        "    import openai\n",
        "    import re\n",
        "    import json\n",
        "\n",
        "except ModuleNotFoundError:\n",
        "    # Downloading the OpenAI library if it has not been downloaded yet\n",
        "    !pip install -q openai\n",
        "    import openai\n",
        "    import re\n",
        "    import json"
      ]
    },
    {
      "cell_type": "markdown",
      "metadata": {
        "id": "xkgLDZORQ42d"
      },
      "source": [
        "## Entering the OpenAI API key"
      ]
    },
    {
      "cell_type": "code",
      "execution_count": null,
      "metadata": {
        "id": "SnvufeK-u7Xj"
      },
      "outputs": [],
      "source": [
        "openai.api_key = \"PASTE-HERE-YOUR-KEY\"\n",
        "MODELO = \"gpt-3.5-turbo\" # Options: \"text-davinci-003\", \"gpt-3.5-turbo\""
      ]
    },
    {
      "cell_type": "markdown",
      "metadata": {
        "id": "9zkCyPrGQ8Hc"
      },
      "source": [
        "## Defining Basic Information for the Algorithm"
      ]
    },
    {
      "cell_type": "code",
      "execution_count": null,
      "metadata": {
        "id": "UCKhO2qevEfS"
      },
      "outputs": [],
      "source": [
        "# Defines difficulty levels until the code reaches the end of the evaluation\n",
        "# This is kept in Portuguese so as not to change the original code\n",
        "niveis_dificuldade = [\"1 - Fácil\", \"2 - Médio\", \"3 - Difícil\", 'Fim']\n",
        "\n",
        "\n",
        "# Instructs the algorithm to always start with an easy level question\n",
        "dificuldade = '1 - Fácil'\n",
        "\n",
        "\n",
        "# Stores the student's trajectory of mistakes and successes\n",
        "trajetoria = []"
      ]
    },
    {
      "cell_type": "markdown",
      "metadata": {
        "id": "ZthE2YadRB7M"
      },
      "source": [
        "## Receiving Context Information"
      ]
    },
    {
      "cell_type": "code",
      "execution_count": null,
      "metadata": {
        "id": "2JD8jpTPvQrE"
      },
      "outputs": [],
      "source": [
        "contexto = input(\"Enter the class topic text: \")\n",
        "\n",
        "\n",
        "prompt_base = f'''\n",
        "I want you to act as an educational assistant for teachers.\n",
        "\n",
        "Your objective is to read a base text for a class informed by the teacher and create\n",
        "discursive questions for students according to the following difficulty levels:\n",
        "1 - Fácil\n",
        "2 - Médio\n",
        "3 - Difícil\n",
        "\n",
        "When requested, you must also inform the level of correctness of the answers\n",
        "informed according to the numbers corresponding to the following options:\n",
        "1 - Resposta Errada\n",
        "2 - Resposta Parcialmente Correta\n",
        "3 - Resposta Correta\n",
        "\n",
        "The basic text of the class is as follows:\n",
        "\n",
        "\"\n",
        "{contexto}\n",
        "\"\n",
        "'''"
      ]
    },
    {
      "cell_type": "markdown",
      "metadata": {
        "id": "rOz-lRZIRKjJ"
      },
      "source": [
        "## Asking Student Adaptive Questions\n",
        "\n",
        "---\n",
        "\n"
      ]
    },
    {
      "cell_type": "code",
      "execution_count": null,
      "metadata": {
        "colab": {
          "background_save": true
        },
        "id": "WX7uvQApRMfs"
      },
      "outputs": [],
      "source": [
        "while dificuldade != \"Fim\":\n",
        "    # Assemble the question text for GPT\n",
        "    pergunta_chatgpt = f'''\n",
        "    {prompt_base}\n",
        "\n",
        "    According to the context above, generate a question with difficulty level {dificuldade}.\n",
        "\n",
        "    Your answer must contain only the wording of the question. The difficulty level or other information should be omitted.\n",
        "    '''\n",
        "    # Requests GPT to generate a question according to the selected base text and difficulty level\n",
        "    prompt_chatgpt = openai.ChatCompletion.create(\n",
        "        model=MODELO,\n",
        "        messages=[\n",
        "            {\"role\": \"user\", \"content\": pergunta_chatgpt},\n",
        "        ])\n",
        "    pergunta_gerada = \"{}\".format(prompt_chatgpt.choices[0][\"message\"][\"content\"])\n",
        "\n",
        "\n",
        "    # Displays the generated question and collects the answer\n",
        "    print(\"\\n=============================================================\")\n",
        "    print(\"=============================================================\")\n",
        "    print(\"=============================================================\")\n",
        "    print(pergunta_gerada)\n",
        "    resposta = input(\"Enter the answer to the question above: \")\n",
        "\n",
        "\n",
        "\n",
        "    pergunta_chatgpt = f'''\n",
        "    {prompt_base}\n",
        "\n",
        "    The teacher asked the student the following question:\n",
        "    \"{pergunta_gerada}\"\n",
        "\n",
        "    The student reported the following response:\n",
        "    \"{resposta}\"\n",
        "\n",
        "    Inform the level of correctness of the student's answer.\n",
        "\n",
        "    Your answer must necessarily inform only the\n",
        "    number of the correctness option among the options provided above.\n",
        "    '''\n",
        "    # Asks the question about the correctness of the student's answer to the GPT\n",
        "    prompt_chatgpt = openai.ChatCompletion.create(\n",
        "        model=MODELO,\n",
        "        messages=[\n",
        "            {\"role\": \"user\", \"content\": pergunta_chatgpt},\n",
        "        ])\n",
        "\n",
        "\n",
        "    # Parses the correctness of the student's response\n",
        "    corretude_resposta = \"{}\".format(prompt_chatgpt.choices[0][\"message\"][\"content\"])\n",
        "    numero_corretude_resposta = int(re.findall('[0-9]+', corretude_resposta)[0])\n",
        "\n",
        "\n",
        "    # Increases the student's level of difficulty if they get the question right\n",
        "    if numero_corretude_resposta == 3:\n",
        "        nova_dificuldade = niveis_dificuldade[niveis_dificuldade.index(dificuldade) + 1]\n",
        "    else:\n",
        "        nova_dificuldade = dificuldade\n",
        "\n",
        "\n",
        "    # Requests GPT to analyze the mood of the student's response\n",
        "    pergunta_humor_chatgpt = f'''\n",
        "    {prompt_base}\n",
        "\n",
        "    The teacher asked the student the following question:\n",
        "    \"{pergunta_gerada}\"\n",
        "\n",
        "    The student reported the following response:\n",
        "    \"{resposta}\"\n",
        "\n",
        "    Analyze the answer provided by the student and inform the mood of the\n",
        "    answer according to the numbers corresponding to the following options:\n",
        "    1. Humor Negativo\n",
        "    2. Humor Neutro\n",
        "    3. Humor Positivo\n",
        "    '''\n",
        "    prompt_humor_chatgpt = openai.ChatCompletion.create(\n",
        "        model=MODELO,\n",
        "        messages=[\n",
        "            {\"role\": \"user\", \"content\": pergunta_humor_chatgpt},\n",
        "        ])\n",
        "    # Parses the mood of the student's response\n",
        "    humor_resposta = \"{}\".format(prompt_humor_chatgpt.choices[0][\"message\"][\"content\"])\n",
        "\n",
        "    # Requests that GPT analyzes the sentiment of the student's responseo\n",
        "    pergunta_humor_chatgpt = f'''\n",
        "    {prompt_base}\n",
        "\n",
        "    The teacher asked the student the following question:\n",
        "    \"{pergunta_gerada}\"\n",
        "\n",
        "    The student reported the following response:\n",
        "    \"{resposta}\"\n",
        "\n",
        "    Analyze the answer provided by the student and inform the feeling expressed by the answer.\n",
        "    Your response in relation to the student's feeling in the response must be represented in a single\n",
        "    word (por exemplo: \"Confiança\", \"Insegurança\", \"Empenho\", \"Preguiça\", \"Felicidade\", \"Alegria\",\n",
        "    \"Entusiasmo\", \"Gratidão\", \"Esperança\", \"Satisfação\", \"Amor\", \"Tristeza\", \"Raiva\", \"Frustração\",\n",
        "    \"Medo\", \"Decepção\", \"Culpa\", \"Ansiedade\", etc.).\n",
        "    '''\n",
        "    prompt_sentimento_chatgpt = openai.ChatCompletion.create(\n",
        "        model=MODELO,\n",
        "        messages=[\n",
        "            {\"role\": \"user\", \"content\": pergunta_humor_chatgpt},\n",
        "        ])\n",
        "    # Parses the mood of the student's response\n",
        "    sentimento_resposta = \"{}\".format(prompt_sentimento_chatgpt.choices[0][\"message\"][\"content\"])\n",
        "\n",
        "\n",
        "    # Stores student progress (trajectory)\n",
        "    trajetoria.append(\n",
        "        {\n",
        "             \"dificuldade\": dificuldade,\n",
        "             \"corretude\": corretude_resposta,\n",
        "             \"humor\": humor_resposta,\n",
        "             \"sentimento\": sentimento_resposta,\n",
        "        }\n",
        "    )\n",
        "\n",
        "    # Updates the student's difficulty level\n",
        "    dificuldade = nova_dificuldade\n"
      ]
    },
    {
      "cell_type": "markdown",
      "source": [
        "## Show trajectory\n",
        "\n",
        "----"
      ],
      "metadata": {
        "id": "RiL48H5vWb6n"
      }
    },
    {
      "cell_type": "code",
      "execution_count": null,
      "metadata": {
        "id": "nB9Oz9Kcvg3d"
      },
      "outputs": [],
      "source": [
        "print(\"=============================\")\n",
        "print(\"==== STUDENT TRAJECTORY =+===\")\n",
        "print(\"=============================\")\n",
        "\n",
        "print(f\"Number of Questions: {len(trajetoria)}\\n\")\n",
        "\n",
        "for numero_pergunta, resposta in enumerate(trajetoria, 1):\n",
        "    dificuldade = resposta[\"dificuldade\"]\n",
        "    corretude = resposta[\"corretude\"]\n",
        "    humor = resposta[\"humor\"]\n",
        "    sentimento = resposta[\"sentimento\"]\n",
        "\n",
        "    print(f\"=== Question {numero_pergunta}\")\n",
        "    print(f\"\\Difficulty: {dificuldade}\")\n",
        "    print(f\"\\tCorrectness: {corretude}\")\n",
        "    print(f\"\\tMood: {humor}\")\n",
        "    print(f\"\\tFeelings: {sentimento}\")\n",
        "    \n",
        "    print(\"\\n\")"
      ]
    }
  ],
  "metadata": {
    "colab": {
      "provenance": []
    },
    "kernelspec": {
      "display_name": "Python 3",
      "name": "python3"
    },
    "language_info": {
      "name": "python"
    }
  },
  "nbformat": 4,
  "nbformat_minor": 0
}
